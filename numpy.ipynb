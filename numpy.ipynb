{
 "cells": [
  {
   "cell_type": "code",
   "execution_count": 6,
   "id": "292b3d38",
   "metadata": {},
   "outputs": [
    {
     "name": "stdout",
     "output_type": "stream",
     "text": [
      "Collecting numpy\n",
      "  Using cached numpy-2.3.2-cp313-cp313-win_amd64.whl.metadata (60 kB)\n",
      "Using cached numpy-2.3.2-cp313-cp313-win_amd64.whl (12.8 MB)\n",
      "Installing collected packages: numpy\n",
      "Successfully installed numpy-2.3.2\n",
      "Note: you may need to restart the kernel to use updated packages.\n"
     ]
    },
    {
     "name": "stderr",
     "output_type": "stream",
     "text": [
      "\n",
      "[notice] A new release of pip is available: 25.1.1 -> 25.2\n",
      "[notice] To update, run: python.exe -m pip install --upgrade pip\n"
     ]
    }
   ],
   "source": [
    "pip install numpy\n"
   ]
  },
  {
   "cell_type": "code",
   "execution_count": 4,
   "id": "854fea60",
   "metadata": {},
   "outputs": [
    {
     "name": "stdout",
     "output_type": "stream",
     "text": [
      "[[    1 25000   300  1200    10]\n",
      " [    2 32000   450  1500    15]\n",
      " [    3 28000   380  1100     8]\n",
      " [    4 41000   500  1600    20]\n",
      " [    5 35000   420  1400    12]\n",
      " [    6 27000   360  1300     9]\n",
      " [    7 39000   480  1700    18]\n",
      " [    8 30000   400  1250    14]\n",
      " [    9 45000   550  1800    25]\n",
      " [   10 33000   410  1450    11]]\n"
     ]
    }
   ],
   "source": [
    "\n",
    "import numpy as np\n",
    "\n",
    "retail_data = np.array([\n",
    "    [1, 25000, 300, 1200, 10],\n",
    "    [2, 32000, 450, 1500, 15],\n",
    "    [3, 28000, 380, 1100, 8],\n",
    "    [4, 41000, 500, 1600, 20],\n",
    "    [5, 35000, 420, 1400, 12],\n",
    "    [6, 27000, 360, 1300, 9],\n",
    "    [7, 39000, 480, 1700, 18],\n",
    "    [8, 30000, 400, 1250, 14],\n",
    "    [9, 45000, 550, 1800, 25],\n",
    "    [10, 33000, 410, 1450, 11]\n",
    "])\n",
    "\n",
    "print(retail_data)"
   ]
  },
  {
   "cell_type": "code",
   "execution_count": 5,
   "id": "e657e9f2",
   "metadata": {},
   "outputs": [],
   "source": [
    "store_id = retail_data[:,0]\n",
    "sales = retail_data[:,1]\n",
    "customers = retail_data[:,2]\n",
    "inventory = retail_data[:,3]\n",
    "returns = retail_data[:,4]\n",
    "     "
   ]
  },
  {
   "cell_type": "code",
   "execution_count": null,
   "id": "4a60917a",
   "metadata": {},
   "outputs": [
    {
     "name": "stdout",
     "output_type": "stream",
     "text": [
      "total revenue: 335000\n"
     ]
    }
   ],
   "source": [
    "## Basic Performance Analysis\n",
    "#1. What is the **total revenue** generated across all stores?\n",
    "total_rev = sales.sum()\n",
    "print(\"total revenue:\",total_rev)"
   ]
  },
  {
   "cell_type": "code",
   "execution_count": null,
   "id": "654f672f",
   "metadata": {},
   "outputs": [
    {
     "name": "stdout",
     "output_type": "stream",
     "text": [
      " store id with max sales: 9\n"
     ]
    }
   ],
   "source": [
    "#2. Which store recorded the **highest sales**?\n",
    "max_sales=sales.argmax()\n",
    "print(\" store id with max sales:\",store_id[max_sales] )\n"
   ]
  },
  {
   "cell_type": "code",
   "execution_count": null,
   "id": "bbbfc430",
   "metadata": {},
   "outputs": [
    {
     "name": "stdout",
     "output_type": "stream",
     "text": [
      "store id with min sal: 1\n"
     ]
    }
   ],
   "source": [
    "#3. Which store recorded the **lowest sales**?\n",
    "min_sales = sales.argmin()\n",
    "print(\"store id with min sal:\", store_id[min_sales])\n",
    "\n",
    "\n"
   ]
  },
  {
   "cell_type": "code",
   "execution_count": null,
   "id": "d754d912",
   "metadata": {},
   "outputs": [
    {
     "name": "stdout",
     "output_type": "stream",
     "text": [
      "average sales: 33500.0\n"
     ]
    }
   ],
   "source": [
    "#4. What is the **average daily sales** per store?\n",
    "avg_sal = sales.mean()\n",
    "print(\"average sales:\", avg_sal)"
   ]
  },
  {
   "cell_type": "code",
   "execution_count": null,
   "metadata": {},
   "outputs": [
    {
     "name": "stdout",
     "output_type": "stream",
     "text": [
      "Number of store with sales above 35000: 3\n"
     ]
    }
   ],
   "source": [
    "#5. How many stores achieved sales **above ₹35,000**?\n",
    "above_sale = np.sum(sales>35000)\n",
    "print(\"Number of store with sales above 35000:\",above_sale)\n"
   ]
  },
  {
   "cell_type": "code",
   "execution_count": 21,
   "id": "f91bf9ad",
   "metadata": {},
   "outputs": [
    {
     "name": "stdout",
     "output_type": "stream",
     "text": [
      "Store ID with Maximum Customers: 9\n"
     ]
    }
   ],
   "source": [
    "## Customer Insights\n",
    "#36. Which store had the **highest customer footfall?\n",
    "max_customers_index = np.argmax(retail_data[:, 2])\n",
    "store_with_max_customers = retail_data[max_customers_index, 0]\n",
    "print(\"Store ID with Maximum Customers:\", store_with_max_customers)\n",
    "     "
   ]
  },
  {
   "cell_type": "code",
   "execution_count": 22,
   "metadata": {},
   "outputs": [
    {
     "name": "stdout",
     "output_type": "stream",
     "text": [
      "Average number of customers per store: 425.0\n"
     ]
    }
   ],
   "source": [
    "#7. What is the **average number of customers** per store?\n",
    "average_customers = np.mean(retail_data[:, 2])\n",
    "print(\"Average number of customers per store:\", average_customers)"
   ]
  },
  {
   "cell_type": "code",
   "execution_count": 23,
   "id": "069c8da6",
   "metadata": {},
   "outputs": [
    {
     "name": "stdout",
     "output_type": "stream",
     "text": [
      "No of stores more than 450 customers: 3\n"
     ]
    }
   ],
   "source": [
    "#8. How many stores have **more than 450 customers**?\n",
    "customers = np.sum(retail_data[:,2]>450)\n",
    "print(\"No of stores more than 450 customers:\",customers)\n"
   ]
  },
  {
   "cell_type": "code",
   "execution_count": 24,
   "id": "be98142d",
   "metadata": {},
   "outputs": [
    {
     "name": "stdout",
     "output_type": "stream",
     "text": [
      "store with minimum customers: 1\n"
     ]
    }
   ],
   "source": [
    "#9. Which store has the **lowest customer count**?\n",
    "min_customer_index= np.argmin(retail_data[:,2])\n",
    "store_with_min_cust = retail_data[min_customer_index,0]\n",
    "print(\"store with minimum customers:\",store_with_min_cust)"
   ]
  },
  {
   "cell_type": "code",
   "execution_count": 8,
   "id": "9f0c0699",
   "metadata": {},
   "outputs": [
    {
     "name": "stdout",
     "output_type": "stream",
     "text": [
      "Stores where high sales do not correspond to high customers: [ 5 10]\n"
     ]
    }
   ],
   "source": [
    "#10. Is there any store where **high sales do not correspond to high customers**?\n",
    "# Rank sales and customers (higher value = higher rank)\n",
    "sales_rank = np.argsort(np.argsort(-sales))\n",
    "cust_rank = np.argsort(np.argsort(-customers))\n",
    "\n",
    "# Find mismatches where sales rank is high but customer rank is not\n",
    "mismatch = store_id[sales_rank < cust_rank]\n",
    "\n",
    "print(\"Stores where high sales do not correspond to high customers:\", mismatch)\n"
   ]
  },
  {
   "cell_type": "code",
   "execution_count": 25,
   "id": "b4851649",
   "metadata": {},
   "outputs": [
    {
     "name": "stdout",
     "output_type": "stream",
     "text": [
      "Total Inventory: 14300\n"
     ]
    }
   ],
   "source": [
    "## Inventory & Returns Analysis\n",
    "#11. What is the **total inventory** across all stores?\n",
    "total_inventory = np.sum(retail_data[:, 3])\n",
    "print(\"Total Inventory:\", total_inventory)\n"
   ]
  },
  {
   "cell_type": "code",
   "execution_count": 26,
   "id": "9ac6b342",
   "metadata": {},
   "outputs": [
    {
     "name": "stdout",
     "output_type": "stream",
     "text": [
      "Store ID with Maximum Inventory: 9\n"
     ]
    }
   ],
   "source": [
    "#12. Which store has the **highest inventory stock**?\n",
    "max_inventory = np.argmax(retail_data[:, 3])\n",
    "store_with_max_inventory = retail_data[max_inventory, 0]\n",
    "print(\"Store ID with Maximum Inventory:\", store_with_max_inventory)\n"
   ]
  },
  {
   "cell_type": "code",
   "execution_count": 27,
   "metadata": {},
   "outputs": [
    {
     "name": "stdout",
     "output_type": "stream",
     "text": [
      "Number of stores with inventory less than 1300 units: 3\n"
     ]
    }
   ],
   "source": [
    "#13. How many stores have **inventory less than 1300 units**?\n",
    "stores_less_than_1300_inventory = np.sum(retail_data[:, 3] < 1300)\n",
    "print(\"Number of stores with inventory less than 1300 units:\", stores_less_than_1300_inventory)\n"
   ]
  },
  {
   "cell_type": "code",
   "execution_count": 28,
   "id": "f8df3d8f",
   "metadata": {},
   "outputs": [
    {
     "name": "stdout",
     "output_type": "stream",
     "text": [
      "Store ID with the highest return rate: 9\n"
     ]
    }
   ],
   "source": [
    "#14. Which store has the **highest return rate** (returns ÷ inventory)?\n",
    "return_rates = retail_data[:, 4] / retail_data[:, 3]\n",
    "max_return_rate_index = np.argmax(return_rates)\n",
    "store_with_max_return_rate = retail_data[max_return_rate_index, 0]\n",
    "print(\"Store ID with the highest return rate:\", store_with_max_return_rate)\n"
   ]
  },
  {
   "cell_type": "code",
   "execution_count": null,
   "id": "a4793276",
   "metadata": {},
   "outputs": [
    {
     "name": "stdout",
     "output_type": "stream",
     "text": [
      " stores with returns greater than 15 units: 3\n"
     ]
    }
   ],
   "source": [
    "#15. Which stores have **returns greater than 15 units**?\n",
    "stores= np.sum(retail_data[:,4]>15)\n",
    "print(\" stores with returns greater than 15 units:\",stores)\n",
    "\n"
   ]
  },
  {
   "cell_type": "code",
   "execution_count": 39,
   "metadata": {},
   "outputs": [
    {
     "name": "stdout",
     "output_type": "stream",
     "text": [
      "Correlation between Sales and Customers: 0.9593636912502479\n",
      "There is a positive correlation between sales and customers.\n"
     ]
    }
   ],
   "source": [
    "## Sales & Customer Correlation\n",
    "#16. Is there a **positive correlation** between sales and customers?\n",
    "correlation_sales_customers = np.corrcoef(retail_data[:, 1], retail_data[:, 2])[0, 1]\n",
    "print(\"Correlation between Sales and Customers:\", correlation_sales_customers)\n",
    "\n",
    "if correlation_sales_customers > 0:\n",
    "    print(\"There is a positive correlation between sales and customers.\")\n",
    "else:\n",
    "    print(\"There is no linear correlation between sales and customers.\")\n"
   ]
  },
  {
   "cell_type": "code",
   "execution_count": 53,
   "id": "810ee4d5",
   "metadata": {},
   "outputs": [
    {
     "name": "stdout",
     "output_type": "stream",
     "text": [
      "Stores with high customer visits and low sales:\n",
      "[[    2 32000   450  1500    15]]\n"
     ]
    }
   ],
   "source": [
    "#17. Which store has **high customer visits but low sales**?\n",
    "average_customers = np.mean(retail_data[:, 2])\n",
    "average_sales = np.mean(retail_data[:, 1])\n",
    "\n",
    "high_customers_low_sales_stores = retail_data[(retail_data[:, 2] > average_customers) & (retail_data[:, 1] < average_sales)]\n",
    "\n",
    "if high_customers_low_sales_stores.shape[0] > 0:\n",
    "    print(\"Stores with high customer visits and low sales:\")\n",
    "    print(high_customers_low_sales_stores)\n",
    "else:\n",
    "    print(\"No stores found with high customer visits and low sales based on average thresholds.\")\n"
   ]
  },
  {
   "cell_type": "code",
   "execution_count": 54,
   "id": "e9186ab0",
   "metadata": {},
   "outputs": [
    {
     "name": "stdout",
     "output_type": "stream",
     "text": [
      "Stores with low customer visits and high sales:\n",
      "[[    5 35000   420  1400    12]]\n"
     ]
    }
   ],
   "source": [
    "#18. Which store has **low customers but high sales**?\n",
    "average_customers = np.mean(retail_data[:, 2])\n",
    "average_sales = np.mean(retail_data[:, 1])\n",
    "\n",
    "low_customers_high_sales_stores = retail_data[(retail_data[:, 2] < average_customers) & (retail_data[:, 1] > average_sales)]\n",
    "\n",
    "if low_customers_high_sales_stores.shape[0] > 0:\n",
    "    print(\"Stores with low customer visits and high sales:\")\n",
    "    print(low_customers_high_sales_stores)\n",
    "else:\n",
    "    print(\"No stores found with low customer visits and high sales based on average thresholds.\")"
   ]
  },
  {
   "cell_type": "code",
   "execution_count": 55,
   "metadata": {},
   "outputs": [
    {
     "name": "stdout",
     "output_type": "stream",
     "text": [
      "Number of stores with sales per customer above ₹90: 0\n"
     ]
    }
   ],
   "source": [
    "#19. How many stores have **sales per customer above ₹90**?\n",
    "sales_per_customer_per_store = retail_data[:, 1] / retail_data[:, 2]\n",
    "stores_above_90_sales_per_customer = np.sum(sales_per_customer_per_store > 90)\n",
    "print(\"Number of stores with sales per customer above ₹90:\", stores_above_90_sales_per_customer)\n",
    "     \n"
   ]
  },
  {
   "cell_type": "code",
   "execution_count": 56,
   "metadata": {},
   "outputs": [
    {
     "name": "stdout",
     "output_type": "stream",
     "text": [
      "Stores that could benefit from customer acquisition campaigns (low customers, high inventory):\n",
      "[[   10 33000   410  1450    11]]\n"
     ]
    }
   ],
   "source": [
    "#20. Which stores could **benefit from customer acquisition campaigns** (low customers, high inventory)?\n",
    "average_customers = np.mean(retail_data[:, 2])\n",
    "average_inventory = np.mean(retail_data[:, 3])\n",
    "\n",
    "benefit_Customer_camp = retail_data[(retail_data[:, 2] < average_customers) & (retail_data[:, 3] > average_inventory)]\n",
    "\n",
    "if benefit_Customer_camp.shape[0] > 0:\n",
    "    print(\"Stores that could benefit from customer acquisition campaigns (low customers, high inventory):\")\n",
    "    print(benefit_Customer_camp)\n",
    "else:\n",
    "    print(\"No stores found that meet the criteria for benefiting from customer acquisition campaigns based on average thresholds.\")\n"
   ]
  },
  {
   "cell_type": "code",
   "execution_count": 49,
   "id": "d529b09b",
   "metadata": {},
   "outputs": [
    {
     "name": "stdout",
     "output_type": "stream",
     "text": [
      "Profit per store: [5000. 6400. 5600. 8200. 7000. 5400. 7800. 6000. 9000. 6600.]\n"
     ]
    }
   ],
   "source": [
    "## Profitability & Growth\n",
    "#21. If profit margin is **20% of sales**, what is the **profit per store**?\n",
    "profit_per_store = retail_data[:, 1] * 0.20\n",
    "print(\"Profit per store:\", profit_per_store)\n"
   ]
  },
  {
   "cell_type": "code",
   "execution_count": 50,
   "id": "bcb685d5",
   "metadata": {},
   "outputs": [
    {
     "name": "stdout",
     "output_type": "stream",
     "text": [
      "Store ID with the highest profit: 9\n",
      "Details of the store with the highest profit:\n",
      "[    9 45000   550  1800    25]\n"
     ]
    }
   ],
   "source": [
    "#22. Which store has the **highest profit**?\n",
    "max_profit_index = np.argmax(profit_per_store)\n",
    "store_with_max_profit = retail_data[max_profit_index, 0]\n",
    "print(\"Store ID with the highest profit:\", store_with_max_profit)\n",
    "print(\"Details of the store with the highest profit:\")\n",
    "print(retail_data[max_profit_index])\n"
   ]
  },
  {
   "cell_type": "code",
   "execution_count": 51,
   "id": "3ff6e2a7",
   "metadata": {},
   "outputs": [
    {
     "name": "stdout",
     "output_type": "stream",
     "text": [
      "Store ID with the highest profit: 1\n",
      "Details of the store with the highest profit:\n",
      "[    1 25000   300  1200    10]\n"
     ]
    }
   ],
   "source": [
    "#23. Which store has the **lowest profit**?\n",
    "min_profit_index = np.argmin(profit_per_store)\n",
    "store_with_min_profit = retail_data[min_profit_index, 0]\n",
    "print(\"Store ID with the highest profit:\", store_with_min_profit)\n",
    "print(\"Details of the store with the highest profit:\")\n",
    "print(retail_data[min_profit_index])\n"
   ]
  },
  {
   "cell_type": "code",
   "execution_count": 46,
   "id": "30f80b12",
   "metadata": {},
   "outputs": [
    {
     "name": "stdout",
     "output_type": "stream",
     "text": [
      "New sales figures (with 10% increase): [27500. 35200. 30800. 45100. 38500. 29700. 42900. 33000. 49500. 36300.]\n"
     ]
    }
   ],
   "source": [
    "#24. If sales increase by **10% next month**, what are the **new sales figures**?\n",
    "new_sales = retail_data[:, 1] * 1.10\n",
    "print(\"New sales figures (with 10% increase):\", new_sales)\n"
   ]
  },
  {
   "cell_type": "code",
   "execution_count": 52,
   "id": "925e677f",
   "metadata": {},
   "outputs": [
    {
     "name": "stdout",
     "output_type": "stream",
     "text": [
      "Current Total Profit: 67000.0\n",
      "New Total Profit (with 10% sales increase): 73700.0\n",
      "Change in Total Profit: 6700.0\n"
     ]
    }
   ],
   "source": [
    "#25. How will **total profit** change with the 10% sales increase?\n",
    "current_total_profit = np.sum(profit_per_store)\n",
    "print(\"Current Total Profit:\", current_total_profit)\n",
    "\n",
    "new_total_profit = np.sum(new_sales * 0.20) # Assuming profit margin remains 20%\n",
    "print(\"New Total Profit (with 10% sales increase):\", new_total_profit)\n",
    "\n",
    "profit_change = new_total_profit - current_total_profit\n",
    "print(\"Change in Total Profit:\", profit_change)\n"
   ]
  },
  {
   "cell_type": "code",
   "execution_count": 43,
   "id": "189bc1bb",
   "metadata": {},
   "outputs": [
    {
     "name": "stdout",
     "output_type": "stream",
     "text": [
      "No stores found that meet the criteria for potential restocking based on the defined threshold.\n"
     ]
    }
   ],
   "source": [
    "## Operational Strategy\n",
    "#26. Which stores need **inventory restocking** based on sales and current stock?\n",
    "inventory_to_sales_ratio = retail_data[:, 3] / retail_data[:, 1]\n",
    "threshold = np.mean(inventory_to_sales_ratio) * 0.8 # Using 80% of the average as a threshold\n",
    "\n",
    "# Identify stores below the threshold\n",
    "restock_needed_stores_mask = inventory_to_sales_ratio < threshold\n",
    "restock_needed_stores = retail_data[restock_needed_stores_mask]\n",
    "\n",
    "if restock_needed_stores.shape[0] > 0:\n",
    "    print(\"Stores that might need inventory restocking (low inventory-to-sales ratio):\")\n",
    "    print(restock_needed_stores[:, 0])\n",
    "else:\n",
    "    print(\"No stores found that meet the criteria for potential restocking based on the defined threshold.\")\n"
   ]
  },
  {
   "cell_type": "code",
   "execution_count": 42,
   "metadata": {},
   "outputs": [
    {
     "name": "stdout",
     "output_type": "stream",
     "text": [
      "\n",
      "Stores with a high return rate (above average) that might require quality checks:\n",
      "[2 4 7 8 9]\n"
     ]
    }
   ],
   "source": [
    "#27. Which stores show **high returns percentage** and might require **quality checks**?\n",
    "average_return_rate = np.mean(return_rates)\n",
    "high_return_rate_stores_mask = return_rates > average_return_rate\n",
    "high_return_rate_stores = retail_data[high_return_rate_stores_mask]\n",
    "\n",
    "if high_return_rate_stores.shape[0] > 0:\n",
    "    print(\"\\nStores with a high return rate (above average) that might require quality checks:\")\n",
    "    print(high_return_rate_stores[:, 0])\n",
    "else:\n",
    "    print(\"No stores found with a return rate above the average.\")\n",
    "    \n"
   ]
  },
  {
   "cell_type": "code",
   "execution_count": 6,
   "id": "8d256a0a",
   "metadata": {},
   "outputs": [
    {
     "name": "stdout",
     "output_type": "stream",
     "text": [
      "Store ID with the highest composite score (Best Performer based on this method): 4\n",
      "Composite Scores per store: [ 4 15 15 28 21  5 21 14 27 15]\n"
     ]
    }
   ],
   "source": [
    "#28. Which store is the **best performer overall** (sales, customers, inventory turnover)?\n",
    "import numpy as np\n",
    "# Handle potential division by zero if any store has zero inventory\n",
    "inventory_turnover = np.where(retail_data[:, 3] != 0, retail_data[:, 1] / retail_data[:, 3], 0)\n",
    "\n",
    "# Rank stores based on Sales (higher is better)\n",
    "sales_rank = np.argsort(np.argsort(retail_data[:, 1])) + 1\n",
    "\n",
    "# Rank stores based on Customers (higher is better)\n",
    "customers_rank = np.argsort(np.argsort(retail_data[:, 2])) + 1\n",
    "\n",
    "# Rank stores based on Inventory Turnover (higher is better)\n",
    "inventory_turnover_rank = np.argsort(np.argsort(inventory_turnover)) + 1\n",
    "\n",
    "# Calculate a composite score by summing the ranks\n",
    "composite_score = sales_rank + customers_rank + inventory_turnover_rank\n",
    "\n",
    "# Find the index of the store with the highest composite score\n",
    "best_performer_index = np.argmax(composite_score)\n",
    "\n",
    "# Get the Store ID of the best performer\n",
    "best_performer_store_id = retail_data[best_performer_index, 0]\n",
    "\n",
    "print(\"Store ID with the highest composite score (Best Performer based on this method):\", best_performer_store_id)\n",
    "print(\"Composite Scores per store:\", composite_score)"
   ]
  },
  {
   "cell_type": "code",
   "execution_count": 7,
   "id": "6c0cd8e1",
   "metadata": {},
   "outputs": [
    {
     "name": "stdout",
     "output_type": "stream",
     "text": [
      "Store ID with the lowest composite score (Worst Performer based on this method): 4\n",
      "Composite Scores per store (based on inverse ranks): [29 18 18  5 12 28 12 19  6 18]\n"
     ]
    }
   ],
   "source": [
    "#29. Which store is the **worst performer overall**?\n",
    "# Handle potential division by zero if any store has zero inventory\n",
    "inventory_turnover = np.where(retail_data[:, 3] != 0, retail_data[:, 1] / retail_data[:, 3], 0)\n",
    "\n",
    "# Rank stores based on Sales (lower is better for worst performer)\n",
    "sales_rank_worst = np.argsort(np.argsort(-retail_data[:, 1])) + 1 # Inverse rank for worst\n",
    "\n",
    "# Rank stores based on Customers (lower is better for worst performer)\n",
    "customers_rank_worst = np.argsort(np.argsort(-retail_data[:, 2])) + 1 # Inverse rank for worst\n",
    "\n",
    "# Rank stores based on Inventory Turnover (lower is better for worst performer)\n",
    "inventory_turnover_rank_worst = np.argsort(np.argsort(-inventory_turnover)) + 1 # Inverse rank for worst\n",
    "\n",
    "# Calculate a composite score by summing the inverse ranks\n",
    "composite_score_worst = sales_rank_worst + customers_rank_worst + inventory_turnover_rank_worst\n",
    "\n",
    "# Find the index of the store with the lowest composite score (using inverse ranks, lowest score is worst)\n",
    "worst_performer_index = np.argmin(composite_score_worst)\n",
    "\n",
    "\n",
    "# Get the Store ID of the worst performer\n",
    "worst_performer_store_id = retail_data[worst_performer_index, 0]\n",
    "\n",
    "print(\"Store ID with the lowest composite score (Worst Performer based on this method):\", worst_performer_store_id)\n",
    "print(\"Composite Scores per store (based on inverse ranks):\", composite_score_worst)\n"
   ]
  },
  {
   "cell_type": "code",
   "execution_count": 41,
   "id": "7dd423d8",
   "metadata": {},
   "outputs": [
    {
     "name": "stdout",
     "output_type": "stream",
     "text": [
      "Stores that can be considered for expansion (strong sales and customer metrics):\n",
      "[4 7 9]\n"
     ]
    }
   ],
   "source": [
    "\n",
    "#30. Which stores can be considered for **expansion** based on strong sales and customer metrics?\n",
    "average_sales = np.mean(retail_data[:, 1])\n",
    "average_customers = np.mean(retail_data[:, 2])\n",
    "\n",
    "expansion_candidates = retail_data[(retail_data[:, 1] > average_sales) & (retail_data[:, 2] > average_customers)]\n",
    "\n",
    "if expansion_candidates.shape[0] > 0:\n",
    "    print(\"Stores that can be considered for expansion (strong sales and customer metrics):\")\n",
    "    print(expansion_candidates[:, 0])\n",
    "else:\n",
    "    print(\"No stores found that meet the criteria for expansion based on average thresholds.\")\n",
    "     \n"
   ]
  },
  {
   "cell_type": "code",
   "execution_count": null,
   "id": "444e7af3",
   "metadata": {},
   "outputs": [],
   "source": []
  },
  {
   "cell_type": "code",
   "execution_count": null,
   "id": "c0805d48",
   "metadata": {},
   "outputs": [],
   "source": []
  },
  {
   "cell_type": "code",
   "execution_count": null,
   "id": "edcb6598",
   "metadata": {},
   "outputs": [],
   "source": []
  },
  {
   "cell_type": "code",
   "execution_count": null,
   "id": "c5469cae",
   "metadata": {},
   "outputs": [],
   "source": []
  },
  {
   "cell_type": "code",
   "execution_count": null,
   "id": "e8ec964a",
   "metadata": {},
   "outputs": [],
   "source": []
  },
  {
   "cell_type": "code",
   "execution_count": null,
   "id": "1e8a5312",
   "metadata": {},
   "outputs": [],
   "source": []
  },
  {
   "cell_type": "code",
   "execution_count": null,
   "id": "d93dd3fe",
   "metadata": {},
   "outputs": [],
   "source": []
  },
  {
   "cell_type": "code",
   "execution_count": null,
   "metadata": {},
   "outputs": [],
   "source": []
  },
  {
   "cell_type": "code",
   "execution_count": null,
   "metadata": {},
   "outputs": [],
   "source": []
  },
  {
   "cell_type": "code",
   "execution_count": null,
   "id": "df325701",
   "metadata": {},
   "outputs": [],
   "source": []
  },
  {
   "cell_type": "code",
   "execution_count": null,
   "id": "f667266c",
   "metadata": {},
   "outputs": [],
   "source": []
  },
  {
   "cell_type": "code",
   "execution_count": null,
   "id": "a058ed7a",
   "metadata": {},
   "outputs": [],
   "source": []
  },
  {
   "cell_type": "code",
   "execution_count": null,
   "metadata": {},
   "outputs": [],
   "source": []
  },
  {
   "cell_type": "code",
   "execution_count": null,
   "metadata": {},
   "outputs": [],
   "source": []
  },
  {
   "cell_type": "code",
   "execution_count": null,
   "id": "8a8f929a",
   "metadata": {},
   "outputs": [],
   "source": []
  },
  {
   "cell_type": "code",
   "execution_count": null,
   "metadata": {},
   "outputs": [],
   "source": []
  },
  {
   "cell_type": "code",
   "execution_count": null,
   "id": "dafe6400",
   "metadata": {},
   "outputs": [],
   "source": []
  },
  {
   "cell_type": "code",
   "execution_count": null,
   "id": "8e93d4e8",
   "metadata": {},
   "outputs": [],
   "source": []
  },
  {
   "cell_type": "code",
   "execution_count": null,
   "metadata": {},
   "outputs": [],
   "source": []
  },
  {
   "cell_type": "code",
   "execution_count": null,
   "id": "c20ed7e4",
   "metadata": {},
   "outputs": [],
   "source": []
  },
  {
   "cell_type": "code",
   "execution_count": null,
   "metadata": {},
   "outputs": [],
   "source": []
  },
  {
   "cell_type": "code",
   "execution_count": null,
   "id": "5d8d1b70",
   "metadata": {},
   "outputs": [],
   "source": []
  },
  {
   "cell_type": "code",
   "execution_count": null,
   "id": "2802046b",
   "metadata": {},
   "outputs": [],
   "source": []
  },
  {
   "cell_type": "code",
   "execution_count": null,
   "id": "79982a14",
   "metadata": {},
   "outputs": [],
   "source": []
  },
  {
   "cell_type": "code",
   "execution_count": null,
   "metadata": {},
   "outputs": [],
   "source": []
  },
  {
   "cell_type": "code",
   "execution_count": null,
   "id": "ca55de33",
   "metadata": {},
   "outputs": [],
   "source": []
  },
  {
   "cell_type": "code",
   "execution_count": null,
   "metadata": {},
   "outputs": [],
   "source": []
  },
  {
   "cell_type": "code",
   "execution_count": null,
   "metadata": {},
   "outputs": [],
   "source": []
  },
  {
   "cell_type": "code",
   "execution_count": null,
   "id": "ac04e7b2",
   "metadata": {},
   "outputs": [],
   "source": []
  },
  {
   "cell_type": "code",
   "execution_count": null,
   "id": "bb1c352e",
   "metadata": {},
   "outputs": [],
   "source": []
  },
  {
   "cell_type": "code",
   "execution_count": null,
   "id": "d838346d",
   "metadata": {},
   "outputs": [],
   "source": []
  },
  {
   "cell_type": "code",
   "execution_count": null,
   "id": "4e30348a",
   "metadata": {},
   "outputs": [],
   "source": []
  },
  {
   "cell_type": "code",
   "execution_count": null,
   "id": "475a2d74",
   "metadata": {},
   "outputs": [],
   "source": []
  },
  {
   "cell_type": "code",
   "execution_count": null,
   "id": "a1ddd9cd",
   "metadata": {},
   "outputs": [],
   "source": []
  },
  {
   "cell_type": "code",
   "execution_count": null,
   "metadata": {},
   "outputs": [],
   "source": []
  },
  {
   "cell_type": "code",
   "execution_count": null,
   "id": "44ffd6cc",
   "metadata": {},
   "outputs": [],
   "source": []
  },
  {
   "cell_type": "code",
   "execution_count": null,
   "metadata": {},
   "outputs": [],
   "source": []
  },
  {
   "cell_type": "code",
   "execution_count": null,
   "metadata": {},
   "outputs": [],
   "source": []
  },
  {
   "cell_type": "code",
   "execution_count": null,
   "metadata": {},
   "outputs": [],
   "source": []
  },
  {
   "cell_type": "code",
   "execution_count": null,
   "metadata": {},
   "outputs": [],
   "source": []
  },
  {
   "cell_type": "code",
   "execution_count": null,
   "metadata": {},
   "outputs": [],
   "source": []
  },
  {
   "cell_type": "code",
   "execution_count": null,
   "metadata": {},
   "outputs": [],
   "source": []
  },
  {
   "cell_type": "code",
   "execution_count": null,
   "id": "5bf44fb1",
   "metadata": {},
   "outputs": [],
   "source": []
  },
  {
   "cell_type": "code",
   "execution_count": null,
   "metadata": {},
   "outputs": [],
   "source": []
  }
 ],
 "metadata": {
  "kernelspec": {
   "display_name": "Python 3",
   "language": "python",
   "name": "python3"
  },
  "language_info": {
   "codemirror_mode": {
    "name": "ipython",
    "version": 3
   },
   "file_extension": ".py",
   "mimetype": "text/x-python",
   "name": "python",
   "nbconvert_exporter": "python",
   "pygments_lexer": "ipython3",
   "version": "3.13.5"
  }
 },
 "nbformat": 4,
 "nbformat_minor": 5
}
